{
 "cells": [
  {
   "cell_type": "code",
   "execution_count": 1,
   "metadata": {},
   "outputs": [
    {
     "name": "stderr",
     "output_type": "stream",
     "text": [
      "/Users/emrekuru/Developer/Finance_RAG/.venv/lib/python3.12/site-packages/pinecone/data/index.py:1: TqdmWarning: IProgress not found. Please update jupyter and ipywidgets. See https://ipywidgets.readthedocs.io/en/stable/user_install.html\n",
      "  from tqdm.autonotebook import tqdm\n"
     ]
    }
   ],
   "source": [
    "import os\n",
    "import pandas as pd\n",
    "from pinecone import Pinecone, ServerlessSpec\n",
    "import sys\n",
    "from transformers import AutoTokenizer, AutoModel\n",
    "import torch\n",
    "import numpy as np \n",
    "\n",
    "sys.path.append('..')\n",
    "\n",
    "from main import VectorDatabase, BiEncoder, SimpleSentenceChunker"
   ]
  },
  {
   "cell_type": "markdown",
   "metadata": {},
   "source": [
    "## Initiliaze Database"
   ]
  },
  {
   "cell_type": "code",
   "execution_count": 2,
   "metadata": {},
   "outputs": [
    {
     "name": "stdout",
     "output_type": "stream",
     "text": [
      "[{\n",
      "    \"name\": \"test\",\n",
      "    \"dimension\": 312,\n",
      "    \"metric\": \"dotproduct\",\n",
      "    \"host\": \"test-im26dq4.svc.aped-4627-b74a.pinecone.io\",\n",
      "    \"spec\": {\n",
      "        \"serverless\": {\n",
      "            \"cloud\": \"aws\",\n",
      "            \"region\": \"us-east-1\"\n",
      "        }\n",
      "    },\n",
      "    \"status\": {\n",
      "        \"ready\": true,\n",
      "        \"state\": \"Ready\"\n",
      "    },\n",
      "    \"deletion_protection\": \"disabled\"\n",
      "}]\n"
     ]
    }
   ],
   "source": [
    "API_KEY = \"c4ac140e-932e-40c3-84e5-e407580eef2a\"\n",
    "pc = Pinecone(api_key=API_KEY)\n",
    "indexes = pc.list_indexes()\n",
    "print(indexes)"
   ]
  },
  {
   "cell_type": "code",
   "execution_count": 3,
   "metadata": {},
   "outputs": [],
   "source": [
    "INDEX_NAME = 'test'\n",
    "DIMENSION = 312  #\n",
    "CLOUD = 'aws'\n",
    "REGION = 'us-west-1'"
   ]
  },
  {
   "cell_type": "code",
   "execution_count": 4,
   "metadata": {},
   "outputs": [],
   "source": [
    "vector_db = VectorDatabase(api_key=API_KEY)\n",
    "handler = vector_db.start_db(index_name=INDEX_NAME, dimension=DIMENSION, cloud=CLOUD, region=REGION)"
   ]
  },
  {
   "cell_type": "code",
   "execution_count": 5,
   "metadata": {},
   "outputs": [],
   "source": [
    "handler.delete_all()"
   ]
  },
  {
   "cell_type": "markdown",
   "metadata": {},
   "source": [
    "## Read Data"
   ]
  },
  {
   "cell_type": "code",
   "execution_count": null,
   "metadata": {},
   "outputs": [],
   "source": [
    "data_folder_path = os.path.join('..', 'data')\n",
    "query_df = pd.read_csv(os.path.join(data_folder_path, \"FinDER/queries.csv\"), index_col=0)\n",
    "document_df = pd.read_csv(os.path.join(data_folder_path, \"FinDER/corpus.csv\"), index_col=0)\n",
    "document_df"
   ]
  },
  {
   "cell_type": "markdown",
   "metadata": {},
   "source": [
    "## Encode and Save to DB"
   ]
  },
  {
   "cell_type": "code",
   "execution_count": 6,
   "metadata": {},
   "outputs": [],
   "source": [
    "tokenizer = AutoTokenizer.from_pretrained('huawei-noah/TinyBERT_General_4L_312D')\n",
    "model = AutoModel.from_pretrained('huawei-noah/TinyBERT_General_4L_312D')"
   ]
  },
  {
   "cell_type": "code",
   "execution_count": 7,
   "metadata": {},
   "outputs": [],
   "source": [
    "encoder = BiEncoder(tokenizer, model)"
   ]
  },
  {
   "cell_type": "code",
   "execution_count": 8,
   "metadata": {},
   "outputs": [],
   "source": [
    "document_df[\"text\"] = document_df[\"text\"].fillna(\"\") \n",
    "texts = document_df[\"text\"].astype(str).tolist() "
   ]
  },
  {
   "cell_type": "code",
   "execution_count": null,
   "metadata": {},
   "outputs": [],
   "source": [
    "batch_size = 10  \n",
    "\n",
    "document_df[\"text\"] = document_df[\"text\"].fillna(\"\")\n",
    "texts = document_df[\"text\"].astype(str).tolist()\n",
    "\n",
    "def batch_upsert(texts, batch_size):\n",
    "    # Iterate through batches of texts\n",
    "    for i in range(0, len(texts), batch_size):\n",
    "        batch_texts = texts[i:i+batch_size]\n",
    "        batch_indexes = document_df.index[i:i+batch_size]\n",
    "\n",
    "        # Encode the current batch\n",
    "        encoded_documents = encoder.encode_batch(batch_texts)\n",
    "\n",
    "        # Prepare the batch data for upsert\n",
    "        batch_data = [(str(idx), embedding.tolist()) for idx, embedding in zip(batch_indexes, encoded_documents)]\n",
    "\n",
    "        # Perform batch upsert\n",
    "        handler.index.upsert(vectors=batch_data)\n",
    "        print(f\"Upserted batch {i//batch_size + 1}\")\n",
    "\n",
    "batch_upsert(texts, batch_size=batch_size)"
   ]
  },
  {
   "cell_type": "code",
   "execution_count": 16,
   "metadata": {},
   "outputs": [],
   "source": [
    "test_query = query_df[\"text\"].iloc[0]"
   ]
  },
  {
   "cell_type": "code",
   "execution_count": 17,
   "metadata": {},
   "outputs": [],
   "source": [
    "test_query = encoder.encode(test_query)"
   ]
  },
  {
   "cell_type": "code",
   "execution_count": null,
   "metadata": {},
   "outputs": [],
   "source": [
    "test_query.tolist()"
   ]
  },
  {
   "cell_type": "code",
   "execution_count": null,
   "metadata": {},
   "outputs": [],
   "source": [
    "test_query = np.array(test_query, dtype=np.float32)\n",
    "\n",
    "test_query_list = test_query.tolist()\n",
    "\n",
    "results = handler.query_vector(test_query_list, top_k=5)\n",
    "\n",
    "for result in results:\n",
    "    print(f\"Document ID: {result['id']}, Score: {result['score']}\")"
   ]
  }
 ],
 "metadata": {
  "kernelspec": {
   "display_name": ".venv",
   "language": "python",
   "name": "python3"
  },
  "language_info": {
   "codemirror_mode": {
    "name": "ipython",
    "version": 3
   },
   "file_extension": ".py",
   "mimetype": "text/x-python",
   "name": "python",
   "nbconvert_exporter": "python",
   "pygments_lexer": "ipython3",
   "version": "3.12.4"
  }
 },
 "nbformat": 4,
 "nbformat_minor": 2
}
