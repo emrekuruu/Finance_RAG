{
 "cells": [
  {
   "cell_type": "code",
   "execution_count": null,
   "metadata": {},
   "outputs": [],
   "source": [
    "import os\n",
    "import pandas as pd\n",
    "from pinecone import Pinecone, ServerlessSpec\n",
    "import sys\n",
    "from transformers import AutoTokenizer, AutoModel\n",
    "import torch\n",
    "import numpy as np \n",
    "\n",
    "sys.path.append('..')\n",
    "\n",
    "from main import VectorDatabase, BiEncoder, SimpleSentenceChunker"
   ]
  },
  {
   "cell_type": "markdown",
   "metadata": {},
   "source": [
    "## Initiliaze Database"
   ]
  },
  {
   "cell_type": "code",
   "execution_count": null,
   "metadata": {},
   "outputs": [],
   "source": [
    "API_KEY = \"c4ac140e-932e-40c3-84e5-e407580eef2a\"\n",
    "pc = Pinecone(api_key=API_KEY)\n",
    "indexes = pc.list_indexes()\n",
    "print(indexes)"
   ]
  },
  {
   "cell_type": "code",
   "execution_count": 3,
   "metadata": {},
   "outputs": [],
   "source": [
    "INDEX_NAME = 'test'\n",
    "DIMENSION = 312  #\n",
    "CLOUD = 'aws'\n",
    "REGION = 'us-west-1'"
   ]
  },
  {
   "cell_type": "code",
   "execution_count": 4,
   "metadata": {},
   "outputs": [],
   "source": [
    "vector_db = VectorDatabase(api_key=API_KEY)\n",
    "handler = vector_db.start_db(index_name=INDEX_NAME, dimension=DIMENSION, cloud=CLOUD, region=REGION)"
   ]
  },
  {
   "cell_type": "markdown",
   "metadata": {},
   "source": [
    "## Read Data"
   ]
  },
  {
   "cell_type": "code",
   "execution_count": null,
   "metadata": {},
   "outputs": [],
   "source": [
    "data_folder_path = os.path.join('..', 'data')\n",
    "query_df = pd.read_csv(os.path.join(data_folder_path, \"FinDER/queries.csv\"), index_col=0)\n",
    "document_df = pd.read_csv(os.path.join(data_folder_path, \"FinDER/corpus.csv\"), index_col=0)\n",
    "document_df"
   ]
  },
  {
   "cell_type": "markdown",
   "metadata": {},
   "source": [
    "## Embed Documents and Save to DB"
   ]
  },
  {
   "cell_type": "code",
   "execution_count": 6,
   "metadata": {},
   "outputs": [],
   "source": [
    "tokenizer = AutoTokenizer.from_pretrained('huawei-noah/TinyBERT_General_4L_312D')\n",
    "model = AutoModel.from_pretrained('huawei-noah/TinyBERT_General_4L_312D')"
   ]
  },
  {
   "cell_type": "code",
   "execution_count": 7,
   "metadata": {},
   "outputs": [],
   "source": [
    "encoder = BiEncoder(tokenizer, model)"
   ]
  },
  {
   "cell_type": "code",
   "execution_count": 8,
   "metadata": {},
   "outputs": [],
   "source": [
    "document_df[\"text\"] = document_df[\"text\"].fillna(\"\") \n",
    "texts = document_df[\"text\"].astype(str).tolist() "
   ]
  },
  {
   "cell_type": "code",
   "execution_count": 9,
   "metadata": {},
   "outputs": [],
   "source": [
    "try:\n",
    "    handler.delete_all()\n",
    "except:\n",
    "    print(\"No index to delete\")"
   ]
  },
  {
   "cell_type": "code",
   "execution_count": null,
   "metadata": {},
   "outputs": [],
   "source": [
    "batch_size = 10  \n",
    "\n",
    "document_df = document_df[document_df.index.str.startswith('MSFT') | document_df.index.str.startswith('AAPL')]\n",
    "document_df[\"text\"] = document_df[\"text\"].fillna(\"\")\n",
    "texts = document_df[\"text\"].astype(str).tolist()\n",
    "\n",
    "# Should be len(texts) in the final versipn\n",
    "limit = len(texts)\n",
    "\n",
    "def batch_upsert(texts, batch_size):\n",
    "    # Iterate through batches of texts\n",
    "    for i in range(0, limit, batch_size):\n",
    "\n",
    "        try:\n",
    "            batch_texts = texts[i:i+batch_size]\n",
    "            batch_indexes = document_df.index[i:i+batch_size]\n",
    "\n",
    "            # Encode the current batch\n",
    "            encoded_documents = encoder.encode_batch(batch_texts)\n",
    "\n",
    "            # Prepare the batch data for upsert\n",
    "            batch_data = [(str(idx), embedding.tolist()) for idx, embedding in zip(batch_indexes, encoded_documents)]\n",
    "\n",
    "            # Perform batch upsert\n",
    "            handler.index.upsert(vectors=batch_data)\n",
    "            print(f\"Upserted batch {i//batch_size + 1}\")\n",
    "\n",
    "        except Exception as e:\n",
    "            print(f\"Error: {e}\")\n",
    "\n",
    "batch_upsert(texts, batch_size=batch_size)"
   ]
  },
  {
   "cell_type": "markdown",
   "metadata": {},
   "source": [
    "## Retrieve"
   ]
  },
  {
   "cell_type": "code",
   "execution_count": 27,
   "metadata": {},
   "outputs": [
    {
     "data": {
      "text/html": [
       "<div>\n",
       "<style scoped>\n",
       "    .dataframe tbody tr th:only-of-type {\n",
       "        vertical-align: middle;\n",
       "    }\n",
       "\n",
       "    .dataframe tbody tr th {\n",
       "        vertical-align: top;\n",
       "    }\n",
       "\n",
       "    .dataframe thead th {\n",
       "        text-align: right;\n",
       "    }\n",
       "</style>\n",
       "<table border=\"1\" class=\"dataframe\">\n",
       "  <thead>\n",
       "    <tr style=\"text-align: right;\">\n",
       "      <th></th>\n",
       "      <th>Documents</th>\n",
       "    </tr>\n",
       "  </thead>\n",
       "  <tbody>\n",
       "    <tr>\n",
       "      <th>q00001</th>\n",
       "      <td>[]</td>\n",
       "    </tr>\n",
       "    <tr>\n",
       "      <th>q00002</th>\n",
       "      <td>[]</td>\n",
       "    </tr>\n",
       "    <tr>\n",
       "      <th>q00003</th>\n",
       "      <td>[]</td>\n",
       "    </tr>\n",
       "    <tr>\n",
       "      <th>q00004</th>\n",
       "      <td>[]</td>\n",
       "    </tr>\n",
       "    <tr>\n",
       "      <th>q00005</th>\n",
       "      <td>[]</td>\n",
       "    </tr>\n",
       "    <tr>\n",
       "      <th>...</th>\n",
       "      <td>...</td>\n",
       "    </tr>\n",
       "    <tr>\n",
       "      <th>q00214</th>\n",
       "      <td>[]</td>\n",
       "    </tr>\n",
       "    <tr>\n",
       "      <th>q00215</th>\n",
       "      <td>[]</td>\n",
       "    </tr>\n",
       "    <tr>\n",
       "      <th>q00216</th>\n",
       "      <td>[]</td>\n",
       "    </tr>\n",
       "    <tr>\n",
       "      <th>q00217</th>\n",
       "      <td>[]</td>\n",
       "    </tr>\n",
       "    <tr>\n",
       "      <th>q00218</th>\n",
       "      <td>[]</td>\n",
       "    </tr>\n",
       "  </tbody>\n",
       "</table>\n",
       "<p>216 rows × 1 columns</p>\n",
       "</div>"
      ],
      "text/plain": [
       "       Documents\n",
       "q00001        []\n",
       "q00002        []\n",
       "q00003        []\n",
       "q00004        []\n",
       "q00005        []\n",
       "...          ...\n",
       "q00214        []\n",
       "q00215        []\n",
       "q00216        []\n",
       "q00217        []\n",
       "q00218        []\n",
       "\n",
       "[216 rows x 1 columns]"
      ]
     },
     "execution_count": 27,
     "metadata": {},
     "output_type": "execute_result"
    }
   ],
   "source": [
    "retrieved_df = pd.DataFrame([[[] ] for _ in query_df.index], index=query_df.index, columns=[\"Documents\"])\n",
    "retrieved_df"
   ]
  },
  {
   "cell_type": "code",
   "execution_count": 28,
   "metadata": {},
   "outputs": [],
   "source": [
    "for idx, row in query_df.iterrows():\n",
    "    query = row[\"text\"]\n",
    "    query = encoder.encode(query)\n",
    "    query = np.array(query, dtype=np.float32)\n",
    "\n",
    "    query_list = query.tolist()\n",
    "\n",
    "    results = handler.query_vector(query_list, top_k=1)\n",
    "    retrieved_df.at[idx, \"Documents\"] = [ result[\"id\"] for result in results]"
   ]
  },
  {
   "cell_type": "code",
   "execution_count": 29,
   "metadata": {},
   "outputs": [
    {
     "data": {
      "text/html": [
       "<div>\n",
       "<style scoped>\n",
       "    .dataframe tbody tr th:only-of-type {\n",
       "        vertical-align: middle;\n",
       "    }\n",
       "\n",
       "    .dataframe tbody tr th {\n",
       "        vertical-align: top;\n",
       "    }\n",
       "\n",
       "    .dataframe thead th {\n",
       "        text-align: right;\n",
       "    }\n",
       "</style>\n",
       "<table border=\"1\" class=\"dataframe\">\n",
       "  <thead>\n",
       "    <tr style=\"text-align: right;\">\n",
       "      <th></th>\n",
       "      <th>Documents</th>\n",
       "    </tr>\n",
       "  </thead>\n",
       "  <tbody>\n",
       "    <tr>\n",
       "      <th>q00001</th>\n",
       "      <td>[AAPL20230011]</td>\n",
       "    </tr>\n",
       "    <tr>\n",
       "      <th>q00002</th>\n",
       "      <td>[MSFT20230741]</td>\n",
       "    </tr>\n",
       "    <tr>\n",
       "      <th>q00003</th>\n",
       "      <td>[AAPL20230021]</td>\n",
       "    </tr>\n",
       "    <tr>\n",
       "      <th>q00004</th>\n",
       "      <td>[AAPL20230011]</td>\n",
       "    </tr>\n",
       "    <tr>\n",
       "      <th>q00005</th>\n",
       "      <td>[AAPL20230011]</td>\n",
       "    </tr>\n",
       "    <tr>\n",
       "      <th>...</th>\n",
       "      <td>...</td>\n",
       "    </tr>\n",
       "    <tr>\n",
       "      <th>q00214</th>\n",
       "      <td>[AAPL20230045]</td>\n",
       "    </tr>\n",
       "    <tr>\n",
       "      <th>q00215</th>\n",
       "      <td>[AAPL20230908]</td>\n",
       "    </tr>\n",
       "    <tr>\n",
       "      <th>q00216</th>\n",
       "      <td>[MSFT20230429]</td>\n",
       "    </tr>\n",
       "    <tr>\n",
       "      <th>q00217</th>\n",
       "      <td>[AAPL20230021]</td>\n",
       "    </tr>\n",
       "    <tr>\n",
       "      <th>q00218</th>\n",
       "      <td>[AAPL20230694]</td>\n",
       "    </tr>\n",
       "  </tbody>\n",
       "</table>\n",
       "<p>216 rows × 1 columns</p>\n",
       "</div>"
      ],
      "text/plain": [
       "             Documents\n",
       "q00001  [AAPL20230011]\n",
       "q00002  [MSFT20230741]\n",
       "q00003  [AAPL20230021]\n",
       "q00004  [AAPL20230011]\n",
       "q00005  [AAPL20230011]\n",
       "...                ...\n",
       "q00214  [AAPL20230045]\n",
       "q00215  [AAPL20230908]\n",
       "q00216  [MSFT20230429]\n",
       "q00217  [AAPL20230021]\n",
       "q00218  [AAPL20230694]\n",
       "\n",
       "[216 rows x 1 columns]"
      ]
     },
     "execution_count": 29,
     "metadata": {},
     "output_type": "execute_result"
    }
   ],
   "source": [
    "retrieved_df"
   ]
  },
  {
   "cell_type": "markdown",
   "metadata": {},
   "source": [
    "## Evaluate"
   ]
  },
  {
   "cell_type": "code",
   "execution_count": 30,
   "metadata": {},
   "outputs": [],
   "source": [
    "def evaluate_retrieval(actual_related_ids, retrieved_docs_ids, top_k=None):\n",
    "    precisions = []\n",
    "    recalls = []\n",
    "    \n",
    "    for actual_ids, retrieved_ids in zip(actual_related_ids, retrieved_docs_ids):\n",
    "        if top_k:\n",
    "            retrieved_ids = retrieved_ids[:top_k]\n",
    "        \n",
    "        actual_set = set(actual_ids)\n",
    "        retrieved_set = set(retrieved_ids)\n",
    "        \n",
    "        true_positives = len(actual_set & retrieved_set)\n",
    "        precision = true_positives / len(retrieved_set) if retrieved_set else 0\n",
    "        recall = true_positives / len(actual_set) if actual_set else 0\n",
    "        \n",
    "        precisions.append(precision)\n",
    "        recalls.append(recall)\n",
    "    \n",
    "    avg_precision = sum(precisions) / len(precisions) if precisions else 0\n",
    "    avg_recall = sum(recalls) / len(recalls) if recalls else 0\n",
    "    \n",
    "    avg_f1 = 2 * (avg_precision * avg_recall) / (avg_precision + avg_recall) if (avg_precision + avg_recall) > 0 else 0\n",
    "    \n",
    "    return avg_precision, avg_recall, avg_f1"
   ]
  },
  {
   "cell_type": "code",
   "execution_count": 31,
   "metadata": {},
   "outputs": [
    {
     "data": {
      "text/plain": [
       "(0.0, 0.0, 0)"
      ]
     },
     "execution_count": 31,
     "metadata": {},
     "output_type": "execute_result"
    }
   ],
   "source": [
    "evaluate_retrieval(query_df[\"Related Documents\"], retrieved_df[\"Documents\"])"
   ]
  },
  {
   "cell_type": "code",
   "execution_count": 40,
   "metadata": {},
   "outputs": [
    {
     "data": {
      "text/plain": [
       "array([\"['MSFT20230014', 'MSFT20230015']\", \"['MSFT20231529']\",\n",
       "       \"['MSFT20231529']\",\n",
       "       \"['ADBE20231571', 'ADBE20231572', 'ADBE20230728', 'ADBE20231573']\",\n",
       "       \"['CPNG20230732']\", \"['CPNG20230658']\", \"['CPNG20230553']\",\n",
       "       \"['LIN20231133']\", \"['LIN20231195']\",\n",
       "       \"['LIN20230064', 'LIN20230065', 'LIN20230066', 'LIN20230067']\",\n",
       "       \"['LIN20230551']\", \"['ORCL20230738', 'ORCL20230739']\",\n",
       "       \"['ORCL20230129', 'ORCL20230130', 'ORCL20230131']\",\n",
       "       \"['ORCL20231527', 'ORCL20231529']\", \"['ORCL20231505']\",\n",
       "       \"['NVDA20231260']\", \"['PG20230221', 'PG20230805']\",\n",
       "       \"['PG20230429']\", \"['PG20230438']\", \"['PG20230440']\",\n",
       "       \"['DAL20230459']\", \"['DAL20230513']\", \"['TSLA20230391']\",\n",
       "       \"['TSLA20231453', 'TSLA20231454']\",\n",
       "       \"['NFLX20230692', 'NFLX20230006']\", \"['NFLX20230387']\",\n",
       "       \"['NFLX20230380']\", \"['HD20230012']\",\n",
       "       \"['AAPL20230236', 'AAPL20230557']\", \"['AAPL20230251']\",\n",
       "       \"['AAPL20230871', 'AAPL20230222']\", \"['AAPL20230966']\",\n",
       "       \"['AAPL20230329']\", \"['AAPL20230882']\", \"['AAPL20230707']\",\n",
       "       \"['AMZN20230757']\", \"['AMZN20230278']\",\n",
       "       \"['AMZN20230740', 'AMZN20230747']\", \"['AMZN20230982']\",\n",
       "       \"['AMZN20231110']\", \"['AMZN20230282']\", \"['META20230315']\",\n",
       "       \"['META20230007']\", \"['META20230801']\", \"['JNJ20231505']\",\n",
       "       \"['JNJ20230226', 'JNJ20230227', 'JNJ20230228', 'JNJ20230229', 'JNJ20230230', 'JNJ20230232', 'JNJ20230233', 'JNJ20230234', 'JNJ20230235', 'JNJ20230236', 'JNJ20230237', 'JNJ20230239']\",\n",
       "       \"['JNJ20230263']\", \"['JPM20231163']\", \"['JPM20231968']\",\n",
       "       \"['JPM20235630', 'JPM20235631', 'JPM20235632', 'JPM20235633', 'JPM20235636']\",\n",
       "       \"['JPM20230013']\", \"['JPM20230026']\", \"['V20230004']\",\n",
       "       \"['V20230020', 'V20230028']\", \"['V20230112', 'V20230376']\",\n",
       "       \"['V20230537']\", \"['V20230372', 'V20230374', 'V20230375']\",\n",
       "       \"['UNH20230014']\", \"['UNH20230401']\",\n",
       "       \"['UNH20230432', 'UNH20230433', 'UNH20230436', 'UNH20230438']\",\n",
       "       \"['GOOGL20230050']\", \"['GOOGL20230680']\", \"['BRK.A20230396']\",\n",
       "       \"['BRK.A20232388']\"], dtype=object)"
      ]
     },
     "execution_count": 40,
     "metadata": {},
     "output_type": "execute_result"
    }
   ],
   "source": [
    "not_empty = query_df[query_df[\"Related Documents\"].apply(lambda x: len(x) > 2)][\"Related Documents\"]\n",
    "index = not_empty.index\n",
    "not_empty.values"
   ]
  },
  {
   "cell_type": "code",
   "execution_count": 42,
   "metadata": {},
   "outputs": [
    {
     "data": {
      "text/plain": [
       "q00001    [AAPL20230011]\n",
       "q00007    [AAPL20230694]\n",
       "q00008    [AAPL20230694]\n",
       "q00010    [AAPL20230011]\n",
       "q00019    [AAPL20230694]\n",
       "               ...      \n",
       "q00197    [AAPL20230071]\n",
       "q00200    [AAPL20230011]\n",
       "q00204    [AAPL20230011]\n",
       "q00210    [AAPL20230011]\n",
       "q00212    [AAPL20230196]\n",
       "Name: Documents, Length: 64, dtype: object"
      ]
     },
     "execution_count": 42,
     "metadata": {},
     "output_type": "execute_result"
    }
   ],
   "source": [
    "retrieved_df.loc[index][\"Documents\"]"
   ]
  },
  {
   "cell_type": "code",
   "execution_count": 47,
   "metadata": {},
   "outputs": [
    {
     "data": {
      "text/plain": [
       "'As of September 24, 2022, the Company had one customer that represented 10% or more of total trade receivables, which accounted for 10%. The Company’s third-party cellular network carriers accounted for 41% and 44% of total trade receivables as of September 30, 2023 and September 24, 2022, respectively. The Company requires third-party credit support or collateral from certain customers to limit credit risk.'"
      ]
     },
     "execution_count": 47,
     "metadata": {},
     "output_type": "execute_result"
    }
   ],
   "source": [
    "document_df.loc['AAPL20230694'][\"text\"]"
   ]
  },
  {
   "cell_type": "code",
   "execution_count": 49,
   "metadata": {},
   "outputs": [
    {
     "data": {
      "text/plain": [
       "'MSFT remaining performance obligation'"
      ]
     },
     "execution_count": 49,
     "metadata": {},
     "output_type": "execute_result"
    }
   ],
   "source": [
    "query_df.iloc[7][\"text\"]"
   ]
  }
 ],
 "metadata": {
  "kernelspec": {
   "display_name": ".venv",
   "language": "python",
   "name": "python3"
  },
  "language_info": {
   "codemirror_mode": {
    "name": "ipython",
    "version": 3
   },
   "file_extension": ".py",
   "mimetype": "text/x-python",
   "name": "python",
   "nbconvert_exporter": "python",
   "pygments_lexer": "ipython3",
   "version": "3.12.4"
  }
 },
 "nbformat": 4,
 "nbformat_minor": 2
}
